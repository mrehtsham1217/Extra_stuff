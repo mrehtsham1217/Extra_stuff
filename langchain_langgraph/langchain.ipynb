{
 "cells": [
  {
   "cell_type": "code",
   "execution_count": 1,
   "metadata": {},
   "outputs": [
    {
     "data": {
      "text/plain": [
       "True"
      ]
     },
     "execution_count": 1,
     "metadata": {},
     "output_type": "execute_result"
    }
   ],
   "source": [
    "import os\n",
    "from dotenv import load_dotenv\n",
    "load_dotenv()"
   ]
  },
  {
   "cell_type": "code",
   "execution_count": 2,
   "metadata": {},
   "outputs": [
    {
     "name": "stderr",
     "output_type": "stream",
     "text": [
      "d:\\AI\\langchain\\RAG_APP\\.venv\\lib\\site-packages\\tqdm\\auto.py:21: TqdmWarning: IProgress not found. Please update jupyter and ipywidgets. See https://ipywidgets.readthedocs.io/en/stable/user_install.html\n",
      "  from .autonotebook import tqdm as notebook_tqdm\n"
     ]
    }
   ],
   "source": [
    "from langchain_core.messages import SystemMessage, HumanMessage\n",
    "from langchain_google_genai import ChatGoogleGenerativeAI\n",
    "\n",
    "model = ChatGoogleGenerativeAI(model='gemini-pro',\n",
    "                               api_key=os.getenv('GEMINI_API_KEY'),\n",
    "                               convert_system_message_to_human=True)"
   ]
  },
  {
   "cell_type": "code",
   "execution_count": 3,
   "metadata": {},
   "outputs": [],
   "source": [
    "message = [SystemMessage(\"You are a helping gemini Give the answer in 500 words\"),\n",
    "           HumanMessage(\"Tell me all the bussiness of Elon musk\")]"
   ]
  },
  {
   "cell_type": "code",
   "execution_count": 4,
   "metadata": {},
   "outputs": [],
   "source": [
    "# response = model.invoke(message)"
   ]
  },
  {
   "cell_type": "code",
   "execution_count": 6,
   "metadata": {},
   "outputs": [],
   "source": [
    "# useful to fetch only string from response\n",
    "from langchain_core.output_parsers import StrOutputParser\n",
    "parser = StrOutputParser()\n",
    "# parser.invoke(response)"
   ]
  },
  {
   "cell_type": "code",
   "execution_count": 7,
   "metadata": {},
   "outputs": [
    {
     "name": "stderr",
     "output_type": "stream",
     "text": [
      "d:\\AI\\langchain\\RAG_APP\\.venv\\lib\\site-packages\\langchain_google_genai\\chat_models.py:381: UserWarning: Convert_system_message_to_human will be deprecated!\n",
      "  warnings.warn(\"Convert_system_message_to_human will be deprecated!\")\n"
     ]
    },
    {
     "data": {
      "text/plain": [
       "'**SpaceX**\\n\\nSpaceX, founded by Elon Musk in 2002, is a leading provider of space transportation services. The company\\'s mission is to reduce the cost of space travel and make it more accessible to both governments and private entities. SpaceX has developed a family of reusable rockets, including the Falcon 9 and Falcon Heavy, which have significantly reduced the cost of launching payloads into orbit. SpaceX also operates a fleet of Dragon spacecraft, which are used to transport cargo and crew to the International Space Station.\\n\\n**Tesla**\\n\\nTesla, founded by Elon Musk in 2003, is a leading manufacturer of electric vehicles. The company\\'s mission is to accelerate the world\\'s transition to sustainable energy. Tesla produces a range of electric cars, including the Model S, Model X, Model 3, and Model Y. Tesla also produces electric powertrains for other manufacturers, such as Daimler and Toyota.\\n\\n**Neuralink**\\n\\nNeuralink, founded by Elon Musk in 2016, is a neurotechnology company that is developing implantable brain-computer interfaces. The company\\'s mission is to create devices that can help people with disabilities regain lost function and enhance human capabilities. Neuralink is currently developing a device that can be implanted into the brain to allow people to control computers and other devices with their thoughts.\\n\\n**The Boring Company**\\n\\nThe Boring Company, founded by Elon Musk in 2016, is a tunneling and infrastructure construction company. The company\\'s mission is to reduce the cost of tunneling and make it more efficient. The Boring Company is currently developing a system of underground tunnels that can be used for high-speed transportation.\\n\\n**Twitter**\\n\\nTwitter, founded in 2006, is a social media platform that allows users to share short messages, or \"tweets.\" Twitter has become one of the most popular social media platforms in the world, with over 400 million active users. Elon Musk acquired Twitter in 2022 for $44 billion.\\n\\n**Other Ventures**\\n\\nIn addition to his primary businesses, Elon Musk is also involved in a number of other ventures, including:\\n\\n* **OpenAI:** A non-profit research company that is developing artificial intelligence technologies.\\n* **Zip2:** A company that provides business directories and mapping services.\\n* **PayPal:** A company that provides online payment services.\\n* **SolarCity:** A company that provides solar energy products and services.'"
      ]
     },
     "execution_count": 7,
     "metadata": {},
     "output_type": "execute_result"
    }
   ],
   "source": [
    "chain = model | parser\n",
    "chain.invoke(message)"
   ]
  },
  {
   "cell_type": "code",
   "execution_count": 11,
   "metadata": {},
   "outputs": [
    {
     "data": {
      "text/plain": [
       "[SystemMessage(content='Translate the following into french'),\n",
       " HumanMessage(content='Hey how are you?')]"
      ]
     },
     "execution_count": 11,
     "metadata": {},
     "output_type": "execute_result"
    }
   ],
   "source": [
    "from langchain_core.prompts import ChatPromptTemplate\n",
    "# step01\n",
    "prompt_template = ChatPromptTemplate(\n",
    "    [\n",
    "        (\"system\", \"Translate the following into {language}\"),\n",
    "        (\"user\", \"{text}\")\n",
    "\n",
    "    ]\n",
    ")\n",
    "# If you are chaining then no need to do this\n",
    "prompt = prompt_template.invoke(\n",
    "    {\"language\": \"french\", \"text\": \"Hey how are you?\"})\n",
    "prompt.to_messages()\n",
    "\n",
    "# ChatPromptTemplate is more flexible and we can use variables. AT the end It is converting into SystemMessage and HumanMessage"
   ]
  },
  {
   "cell_type": "code",
   "execution_count": 10,
   "metadata": {},
   "outputs": [
    {
     "name": "stderr",
     "output_type": "stream",
     "text": [
      "d:\\AI\\langchain\\RAG_APP\\.venv\\lib\\site-packages\\langchain_google_genai\\chat_models.py:381: UserWarning: Convert_system_message_to_human will be deprecated!\n",
      "  warnings.warn(\"Convert_system_message_to_human will be deprecated!\")\n"
     ]
    },
    {
     "data": {
      "text/plain": [
       "'Salut comment ça va ?'"
      ]
     },
     "execution_count": 10,
     "metadata": {},
     "output_type": "execute_result"
    }
   ],
   "source": [
    "chain2 = model | parser\n",
    "chain2.invoke(prompt)"
   ]
  },
  {
   "cell_type": "markdown",
   "metadata": {},
   "source": [
    "# **Best and Shortcut way of chaining**\n"
   ]
  },
  {
   "cell_type": "code",
   "execution_count": 12,
   "metadata": {},
   "outputs": [
    {
     "name": "stderr",
     "output_type": "stream",
     "text": [
      "d:\\AI\\langchain\\RAG_APP\\.venv\\lib\\site-packages\\langchain_google_genai\\chat_models.py:381: UserWarning: Convert_system_message_to_human will be deprecated!\n",
      "  warnings.warn(\"Convert_system_message_to_human will be deprecated!\")\n"
     ]
    },
    {
     "data": {
      "text/plain": [
       "'Salut, comment ca va ?'"
      ]
     },
     "execution_count": 12,
     "metadata": {},
     "output_type": "execute_result"
    }
   ],
   "source": [
    "chain3 = prompt_template | model | parser\n",
    "chain3.invoke(\n",
    "    {\"language\": \"french\", \"text\": \"Hey how are you?\"})"
   ]
  },
  {
   "cell_type": "code",
   "execution_count": null,
   "metadata": {},
   "outputs": [],
   "source": []
  }
 ],
 "metadata": {
  "kernelspec": {
   "display_name": ".venv",
   "language": "python",
   "name": "python3"
  },
  "language_info": {
   "codemirror_mode": {
    "name": "ipython",
    "version": 3
   },
   "file_extension": ".py",
   "mimetype": "text/x-python",
   "name": "python",
   "nbconvert_exporter": "python",
   "pygments_lexer": "ipython3",
   "version": "3.10.0"
  }
 },
 "nbformat": 4,
 "nbformat_minor": 2
}
