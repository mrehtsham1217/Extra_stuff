{
 "cells": [
  {
   "cell_type": "code",
   "execution_count": 14,
   "metadata": {},
   "outputs": [],
   "source": [
    "from langchain_community.document_loaders import PyPDFLoader\n",
    "from langchain.text_splitter import RecursiveCharacterTextSplitter\n",
    "from langchain_community.embeddings import HuggingFaceEmbeddings\n",
    "from langchain.prompts import PromptTemplate\n",
    "from langchain.chains import RetrievalQA\n",
    "from langchain_community.vectorstores import FAISS"
   ]
  },
  {
   "cell_type": "code",
   "execution_count": 6,
   "metadata": {},
   "outputs": [
    {
     "name": "stdout",
     "output_type": "stream",
     "text": [
      "43\n"
     ]
    }
   ],
   "source": [
    "loader = PyPDFLoader(\"NIPS-2017-attention-is-all-you-need-Paper.pdf\")\n",
    "documents = loader.load()\n",
    "text_splitter = RecursiveCharacterTextSplitter(\n",
    "    chunk_size=1000,\n",
    "    separators=['\\n', '\\n\\n', ','],\n",
    "    chunk_overlap=200\n",
    ")\n",
    "documents = text_splitter.split_documents(documents)\n",
    "documents[:5]\n",
    "print(len(documents))"
   ]
  },
  {
   "cell_type": "code",
   "execution_count": 9,
   "metadata": {},
   "outputs": [
    {
     "name": "stdout",
     "output_type": "stream",
     "text": [
      "WARNING:tensorflow:From c:\\Users\\PMLS\\AppData\\Local\\Programs\\Python\\Python310\\lib\\site-packages\\tf_keras\\src\\losses.py:2976: The name tf.losses.sparse_softmax_cross_entropy is deprecated. Please use tf.compat.v1.losses.sparse_softmax_cross_entropy instead.\n",
      "\n"
     ]
    },
    {
     "data": {
      "application/vnd.jupyter.widget-view+json": {
       "model_id": "f1ca1273ffc54640a3cf8c5b5b1b7dc4",
       "version_major": 2,
       "version_minor": 0
      },
      "text/plain": [
       "modules.json:   0%|          | 0.00/349 [00:00<?, ?B/s]"
      ]
     },
     "metadata": {},
     "output_type": "display_data"
    },
    {
     "name": "stderr",
     "output_type": "stream",
     "text": [
      "c:\\Users\\PMLS\\AppData\\Local\\Programs\\Python\\Python310\\lib\\site-packages\\huggingface_hub\\file_download.py:159: UserWarning: `huggingface_hub` cache-system uses symlinks by default to efficiently store duplicated files but your machine does not support them in C:\\Users\\PMLS\\.cache\\huggingface\\hub\\models--sentence-transformers--all-MiniLM-L6-v2. Caching files will still work but in a degraded version that might require more space on your disk. This warning can be disabled by setting the `HF_HUB_DISABLE_SYMLINKS_WARNING` environment variable. For more details, see https://huggingface.co/docs/huggingface_hub/how-to-cache#limitations.\n",
      "To support symlinks on Windows, you either need to activate Developer Mode or to run Python as an administrator. In order to see activate developer mode, see this article: https://docs.microsoft.com/en-us/windows/apps/get-started/enable-your-device-for-development\n",
      "  warnings.warn(message)\n"
     ]
    },
    {
     "data": {
      "application/vnd.jupyter.widget-view+json": {
       "model_id": "079ab189a83c4b51adba606340ad5ec2",
       "version_major": 2,
       "version_minor": 0
      },
      "text/plain": [
       "config_sentence_transformers.json:   0%|          | 0.00/116 [00:00<?, ?B/s]"
      ]
     },
     "metadata": {},
     "output_type": "display_data"
    },
    {
     "data": {
      "application/vnd.jupyter.widget-view+json": {
       "model_id": "6e19777bdf8f4ff1a4f21419ef55aeca",
       "version_major": 2,
       "version_minor": 0
      },
      "text/plain": [
       "README.md:   0%|          | 0.00/10.7k [00:00<?, ?B/s]"
      ]
     },
     "metadata": {},
     "output_type": "display_data"
    },
    {
     "data": {
      "application/vnd.jupyter.widget-view+json": {
       "model_id": "a4790df6cde442d4a033dfe2fb6d587e",
       "version_major": 2,
       "version_minor": 0
      },
      "text/plain": [
       "sentence_bert_config.json:   0%|          | 0.00/53.0 [00:00<?, ?B/s]"
      ]
     },
     "metadata": {},
     "output_type": "display_data"
    },
    {
     "data": {
      "application/vnd.jupyter.widget-view+json": {
       "model_id": "84d67cc9cd18429f91a6123cdac89fac",
       "version_major": 2,
       "version_minor": 0
      },
      "text/plain": [
       "config.json:   0%|          | 0.00/612 [00:00<?, ?B/s]"
      ]
     },
     "metadata": {},
     "output_type": "display_data"
    },
    {
     "data": {
      "application/vnd.jupyter.widget-view+json": {
       "model_id": "6dab82b2b46043b382c453ff91b279ad",
       "version_major": 2,
       "version_minor": 0
      },
      "text/plain": [
       "model.safetensors:   0%|          | 0.00/90.9M [00:00<?, ?B/s]"
      ]
     },
     "metadata": {},
     "output_type": "display_data"
    },
    {
     "data": {
      "application/vnd.jupyter.widget-view+json": {
       "model_id": "dd1eac3acb3a40b4826fc784ff0705b0",
       "version_major": 2,
       "version_minor": 0
      },
      "text/plain": [
       "tokenizer_config.json:   0%|          | 0.00/350 [00:00<?, ?B/s]"
      ]
     },
     "metadata": {},
     "output_type": "display_data"
    },
    {
     "data": {
      "application/vnd.jupyter.widget-view+json": {
       "model_id": "b14fe31af0d549fc9a8e4895b66a3235",
       "version_major": 2,
       "version_minor": 0
      },
      "text/plain": [
       "vocab.txt:   0%|          | 0.00/232k [00:00<?, ?B/s]"
      ]
     },
     "metadata": {},
     "output_type": "display_data"
    },
    {
     "data": {
      "application/vnd.jupyter.widget-view+json": {
       "model_id": "70aba3c5b71248588185f1cdeaf03744",
       "version_major": 2,
       "version_minor": 0
      },
      "text/plain": [
       "tokenizer.json:   0%|          | 0.00/466k [00:00<?, ?B/s]"
      ]
     },
     "metadata": {},
     "output_type": "display_data"
    },
    {
     "data": {
      "application/vnd.jupyter.widget-view+json": {
       "model_id": "dae52db04bed4cb79502c8e33e994735",
       "version_major": 2,
       "version_minor": 0
      },
      "text/plain": [
       "special_tokens_map.json:   0%|          | 0.00/112 [00:00<?, ?B/s]"
      ]
     },
     "metadata": {},
     "output_type": "display_data"
    },
    {
     "data": {
      "application/vnd.jupyter.widget-view+json": {
       "model_id": "5096efc001fa49d0a7f87bf05683a23e",
       "version_major": 2,
       "version_minor": 0
      },
      "text/plain": [
       "1_Pooling/config.json:   0%|          | 0.00/190 [00:00<?, ?B/s]"
      ]
     },
     "metadata": {},
     "output_type": "display_data"
    }
   ],
   "source": [
    "huggingface_embeddings = HuggingFaceEmbeddings(\n",
    "    model_name=\"all-MiniLM-L6-v2\",\n",
    "    model_kwargs={'device': 'cpu'},\n",
    "    encode_kwargs={'normalize_embeddings': True}\n",
    ")"
   ]
  },
  {
   "cell_type": "code",
   "execution_count": 12,
   "metadata": {},
   "outputs": [
    {
     "data": {
      "text/plain": [
       "array(<coroutine object Embeddings.aembed_query at 0x000001FB77314200>,\n",
       "      dtype=object)"
      ]
     },
     "execution_count": 12,
     "metadata": {},
     "output_type": "execute_result"
    }
   ],
   "source": [
    "import numpy as np\n",
    "np.array(huggingface_embeddings.aembed_query(documents[0].page_content))"
   ]
  },
  {
   "cell_type": "code",
   "execution_count": 13,
   "metadata": {},
   "outputs": [
    {
     "name": "stdout",
     "output_type": "stream",
     "text": [
      "[-7.17908219e-02 -1.25976473e-01  4.42448491e-03 -3.68517302e-02\n",
      "  2.36916039e-02  3.58989649e-02 -6.33518249e-02  1.89670641e-02\n",
      "  1.12373739e-01 -6.06929436e-02  2.29640715e-02 -5.51820844e-02\n",
      " -7.19434470e-02  1.01218391e-02 -5.58682494e-02 -1.63020229e-03\n",
      "  3.86950187e-02  7.95766637e-02 -6.54759631e-02 -9.69664156e-02\n",
      "  1.78688113e-02  2.30634790e-02  1.42895766e-02  2.12099124e-02\n",
      "  2.34116940e-03  3.48839425e-02 -7.75443912e-02 -5.70324510e-02\n",
      " -1.10436417e-02  2.94086686e-03  3.61996740e-02 -4.30017933e-02\n",
      " -2.80836839e-02  8.00447762e-02 -5.03871515e-02  1.10283516e-01\n",
      " -9.54435468e-02 -2.12040301e-02 -1.46536026e-02 -7.19997659e-02\n",
      "  1.25844739e-02  1.58007368e-02 -3.65340486e-02  1.63824111e-02\n",
      "  1.21759474e-01  3.91672589e-02  6.51316866e-02 -1.60369705e-02\n",
      "  2.03093532e-02 -3.36510539e-02 -7.29919970e-02  4.37113345e-02\n",
      " -3.06430031e-02  8.78230333e-02 -1.36171635e-02 -5.19783329e-03\n",
      " -4.31595147e-02 -1.89790931e-02 -3.69802527e-02 -6.66522607e-02\n",
      " -7.62080252e-02 -3.43455188e-02  8.56633112e-03 -9.03302580e-02\n",
      "  8.64466373e-03 -1.30918482e-02  2.06580572e-02 -9.04596318e-03\n",
      " -8.56209472e-02  2.28984896e-02  9.48074088e-03  7.26901814e-02\n",
      " -3.63025740e-02  2.93676946e-02  1.98386535e-02  5.03057130e-02\n",
      "  7.90407285e-02  1.33110033e-02  2.84250602e-02 -4.96240482e-02\n",
      "  2.43713055e-02  2.30049109e-03  5.22263795e-02  2.90523609e-03\n",
      "  6.30553216e-02 -3.87700535e-02 -3.97675857e-02  7.78280795e-02\n",
      " -2.12696940e-02  4.21993993e-02 -1.51360119e-02 -7.50569180e-02\n",
      "  9.41404030e-02 -5.41011840e-02  3.41774337e-02  5.32579720e-02\n",
      " -4.63772602e-02  1.53486058e-02 -4.06580567e-02  2.14516781e-02\n",
      "  1.53231472e-02  3.55318785e-02  5.71979582e-02 -1.05085373e-01\n",
      " -1.21636875e-02  3.85632366e-02  8.17779675e-02  5.01035154e-02\n",
      "  3.09256501e-02 -7.68325850e-02 -1.59135591e-02  3.21046375e-02\n",
      "  3.17929760e-02 -5.13280369e-02  4.35200520e-02 -4.59012836e-02\n",
      " -5.32708317e-02 -3.82156447e-02  6.68635741e-02 -2.27098423e-03\n",
      "  1.36806564e-02 -8.27023108e-03 -5.29888012e-02  6.52880222e-02\n",
      "  1.54238502e-02 -6.02327995e-02 -1.86693016e-02  1.01369923e-32\n",
      " -9.02053155e-03  8.43908712e-02  1.69165470e-02 -1.15552293e-02\n",
      "  3.10015939e-02  2.47211419e-02 -3.78838442e-02  2.72936318e-02\n",
      " -6.42049983e-02 -2.77552120e-02 -6.97781593e-02 -4.11475636e-02\n",
      " -6.52444661e-02  8.45040381e-02 -1.36851063e-02 -3.72852907e-02\n",
      "  1.35740777e-02  3.35181579e-02  1.22959283e-03 -4.85260524e-02\n",
      " -4.68243938e-03  4.44570230e-03  1.22838989e-02 -8.88247043e-03\n",
      " -1.72703303e-02 -1.86954848e-02  1.06709404e-02 -8.47572535e-02\n",
      " -7.39620775e-02 -1.90379173e-02 -1.22035936e-01  6.17749505e-02\n",
      " -1.73600984e-03  2.20716977e-03  1.90585945e-02 -1.36056647e-01\n",
      "  3.07611991e-02 -4.92109098e-02  4.40320894e-02 -5.35627566e-02\n",
      " -1.76201984e-02  1.33524507e-01 -3.82377356e-02  3.19100358e-02\n",
      " -3.58367525e-02 -1.58394519e-02  1.21382335e-02  3.01002455e-03\n",
      "  3.20202857e-02 -3.03907059e-02  4.69122902e-02 -3.41941253e-03\n",
      " -7.93257356e-02 -1.06158815e-01  5.82191907e-02  4.95070405e-02\n",
      "  5.14679030e-02  1.03721134e-01  5.82162440e-02  1.14861801e-01\n",
      " -8.48515425e-03  4.47107553e-02  3.56070464e-03  1.25162035e-01\n",
      "  8.61383155e-02 -1.48426322e-02 -7.37438723e-02  6.56863227e-02\n",
      "  3.23609784e-02 -1.15166698e-02 -4.88106348e-03  1.59908459e-02\n",
      " -1.22769745e-02  9.18434560e-03  5.86586334e-02  2.72613164e-04\n",
      "  1.01516750e-02 -1.01021379e-01 -6.30095005e-02  3.81077267e-02\n",
      " -5.57742231e-02  6.32689940e-03 -4.76917252e-02  2.22469214e-02\n",
      " -4.61554527e-02  3.75452451e-02  8.85105208e-02 -9.97475442e-03\n",
      " -3.49798612e-02 -9.30757902e-04  2.83308886e-03  2.66433577e-04\n",
      "  1.98205952e-02 -1.53370947e-03 -4.86321328e-03 -9.44521172e-33\n",
      "  2.46036816e-02  4.06525247e-02 -3.83087620e-02  5.60792349e-02\n",
      " -5.78233078e-02 -2.36886628e-02 -1.06377089e-02 -3.12058977e-03\n",
      " -2.57822815e-02  4.89623379e-03 -1.45626767e-02 -8.33368823e-02\n",
      "  8.10206607e-02  6.73410483e-03  1.87513977e-02 -7.12458417e-02\n",
      "  4.45292182e-02  2.23577246e-02 -1.80062801e-02  1.68213136e-02\n",
      "  1.21161584e-02  1.54143095e-01 -7.82384053e-02 -4.17516306e-02\n",
      " -5.08727394e-02  1.57374125e-02 -9.69226658e-02  1.14038482e-01\n",
      " -3.34383454e-03 -3.03618480e-02 -8.14191550e-02  7.24196211e-02\n",
      "  1.16992593e-02 -1.96794351e-03 -2.89116502e-02  8.44051689e-02\n",
      "  2.46058535e-02 -3.19760889e-02 -6.24511316e-02  5.61821386e-02\n",
      "  9.87381712e-02 -1.72085967e-02 -1.84593908e-02  2.45469287e-02\n",
      " -4.44539264e-02 -8.85860343e-03 -1.28312245e-01  7.44806416e-03\n",
      " -3.03315558e-02  6.24452792e-02 -1.61272641e-02  4.78701964e-02\n",
      " -1.01142593e-01 -1.99039746e-02 -6.05653692e-03 -2.83352062e-02\n",
      " -1.08540365e-02 -5.61619401e-02  3.27284485e-02 -8.38372856e-02\n",
      " -6.40094802e-02 -4.75119054e-02  2.55731717e-02 -6.62798807e-02\n",
      "  4.80595082e-02  3.78427468e-02  3.81378084e-02 -5.33245737e-03\n",
      "  9.75705236e-02 -4.20179442e-02  4.71247472e-02 -5.08647449e-02\n",
      "  7.49700963e-02  4.51897383e-02  2.18432546e-02 -6.22697957e-02\n",
      "  7.62441847e-03 -4.05947380e-02  4.15511196e-03 -4.12587225e-02\n",
      " -5.99835627e-02 -2.17484534e-02 -3.85303795e-02  1.27762742e-02\n",
      "  3.20299007e-02  4.88429815e-02  8.18268210e-02  1.36736163e-03\n",
      "  5.32013029e-02  5.58866886e-03 -3.40866596e-02  3.01801860e-02\n",
      "  2.26496849e-02  5.84595166e-02 -7.18147606e-02 -5.65691209e-08\n",
      " -6.06371686e-02 -3.88654582e-02  6.56628655e-03  9.86145623e-03\n",
      "  2.31892448e-02 -1.30909950e-01 -2.81934794e-02  4.84008603e-02\n",
      " -3.17756832e-02  7.95332342e-03  1.50567805e-02 -9.95632634e-03\n",
      " -4.55321372e-02 -6.64185314e-03  1.15929646e-02  9.07709524e-02\n",
      "  8.37304667e-02 -2.12277751e-02  2.61989441e-02 -1.74711291e-02\n",
      "  2.03996878e-02  7.29140714e-02 -1.42538548e-02  5.15615381e-02\n",
      "  6.50793407e-03 -4.51499783e-02 -5.69517426e-02  1.32000018e-02\n",
      "  1.44143794e-02 -5.27970679e-02  6.52554855e-02  2.26371903e-02\n",
      "  5.18012159e-02 -6.68690652e-02 -2.29673423e-02  1.68193448e-02\n",
      "  2.50521600e-02  1.11401770e-02  7.60622928e-03 -3.64433825e-02\n",
      "  6.12066910e-02  4.03189026e-02 -4.65140417e-02  5.46183027e-02\n",
      " -3.01086586e-02 -4.77287807e-02 -9.42730065e-03 -9.32091102e-02\n",
      "  2.32579857e-02 -6.74956441e-02  9.64293852e-02 -3.46280225e-02\n",
      "  3.90118547e-02  1.26810661e-02  1.88915257e-03 -2.11903546e-03\n",
      "  7.33682513e-02 -3.72060575e-02  7.03141233e-03  8.07413980e-02\n",
      "  1.19015202e-01  5.98960780e-02 -6.91037327e-02 -5.24797179e-02]\n",
      "(384,)\n"
     ]
    }
   ],
   "source": [
    "import numpy as np\n",
    "print(np.array(huggingface_embeddings.embed_query(\n",
    "    documents[0].page_content)))\n",
    "print(np.array(huggingface_embeddings.embed_query(\n",
    "    documents[0].page_content)).shape)"
   ]
  },
  {
   "cell_type": "code",
   "execution_count": 24,
   "metadata": {},
   "outputs": [],
   "source": [
    "vectorstore = FAISS.from_documents(\n",
    "    documents, huggingface_embeddings)"
   ]
  },
  {
   "cell_type": "code",
   "execution_count": 25,
   "metadata": {},
   "outputs": [
    {
     "name": "stdout",
     "output_type": "stream",
     "text": [
      "connected layers for both the encoder and decoder, shown in the left and right halves of Figure 1,\n",
      "respectively.\n",
      "3.1 Encoder and Decoder Stacks\n",
      "Encoder: The encoder is composed of a stack of N= 6 identical layers. Each layer has two\n",
      "sub-layers. The ﬁrst is a multi-head self-attention mechanism, and the second is a simple, position-\n",
      "2\n"
     ]
    }
   ],
   "source": [
    "# Query using Similarity Search\n",
    "query = \"Encoder and Decoder Stacks?\"\n",
    "relevant_docments = vectorstore.similarity_search(query)\n",
    "\n",
    "print(relevant_docments[0].page_content)"
   ]
  },
  {
   "cell_type": "code",
   "execution_count": 31,
   "metadata": {},
   "outputs": [
    {
     "name": "stdout",
     "output_type": "stream",
     "text": [
      "of the softmax which correspond to illegal connections. See Figure 2.\n",
      "3.3 Position-wise Feed-Forward Networks\n",
      "In addition to attention sub-layers, each of the layers in our encoder and decoder contains a fully\n",
      "connected feed-forward network, which is applied to each position separately and identically. This\n",
      "consists of two linear transformations with a ReLU activation in between.\n",
      "FFN(x) = max(0,xW 1+b1)W2+b2 (2)\n",
      "While the linear transformations are the same across different positions, they use different parameters\n",
      "from layer to layer. Another way of describing this is as two convolutions with kernel size 1.\n",
      "The dimensionality of input and output is dmodel = 512 , and the inner-layer has dimensionality\n",
      "dff= 2048 .\n",
      "3.4 Embeddings and Softmax\n",
      "Similarly to other sequence transduction models, we use learned embeddings to convert the input\n",
      "tokens and output tokens to vectors of dimension dmodel. We also use the usual learned linear transfor-\n"
     ]
    }
   ],
   "source": [
    "# Query using Similarity Search\n",
    "query2 = \" Embeddings and Softmax\"\n",
    "relevant_docments2 = vectorstore.similarity_search(query2)\n",
    "\n",
    "print(relevant_docments2[0].page_content)"
   ]
  },
  {
   "cell_type": "code",
   "execution_count": null,
   "metadata": {},
   "outputs": [],
   "source": []
  },
  {
   "cell_type": "code",
   "execution_count": null,
   "metadata": {},
   "outputs": [],
   "source": []
  }
 ],
 "metadata": {
  "kernelspec": {
   "display_name": "Python 3",
   "language": "python",
   "name": "python3"
  },
  "language_info": {
   "codemirror_mode": {
    "name": "ipython",
    "version": 3
   },
   "file_extension": ".py",
   "mimetype": "text/x-python",
   "name": "python",
   "nbconvert_exporter": "python",
   "pygments_lexer": "ipython3",
   "version": "3.10.0"
  }
 },
 "nbformat": 4,
 "nbformat_minor": 2
}
